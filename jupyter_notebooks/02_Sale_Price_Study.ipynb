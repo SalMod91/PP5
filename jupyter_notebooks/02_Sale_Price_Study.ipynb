{
  "cells": [
    {
      "cell_type": "markdown",
      "metadata": {
        "id": "0aStgWSO0E0E"
      },
      "source": [
        "# Sale Price Study Notebook\n"
      ]
    },
    {
      "cell_type": "markdown",
      "metadata": {
        "id": "1eLEkw5O0ECa"
      },
      "source": [
        "## Objectives\n",
        "\n",
        "- **Address business requirement 1**:\n",
        "    - **Correlation Analysis**: Investigate and quantify the relationships between various house features and the sale price.\n",
        "    - **Visualization**: Illustrate these relationships through visual representations and provide a clear summary of how different features impact the sale price.\n",
        "\n",
        "## Inputs\n",
        "\n",
        "- The data loaded from the Data Collection Notebook: outputs/datasets/collection/house_prices_records.csv\n",
        "\n",
        "## Outputs\n",
        "\n",
        "- Correlation plots that address Business Requirement 1.\n",
        "\n",
        "## Additional Comments\n",
        "\n",
        "The analysis was conducted using the raw data prior to any cleaning processes. <br>\n",
        "This ensures that the study is based on the original dataset preventing any inaccuracies that might arise from preprocessing data wich could lead to incorrect assumptions.\n"
      ]
    },
    {
      "cell_type": "markdown",
      "metadata": {
        "id": "9uWZXH9LwoQg"
      },
      "source": [
        "---"
      ]
    },
    {
      "cell_type": "markdown",
      "metadata": {
        "id": "cqP-UeN-z3i2"
      },
      "source": [
        "# Change working directory"
      ]
    },
    {
      "cell_type": "markdown",
      "metadata": {},
      "source": [
        "* We are assuming you will store the notebooks in a subfolder, therefore when running the notebook in the editor, you will need to change the working directory"
      ]
    },
    {
      "cell_type": "markdown",
      "metadata": {
        "id": "aOGIGS-uz3i2"
      },
      "source": [
        "We need to change the working directory from its current folder to its parent folder\n",
        "* We access the current directory with os.getcwd()"
      ]
    },
    {
      "cell_type": "code",
      "execution_count": null,
      "metadata": {
        "id": "wZfF_j-Bz3i4",
        "metadata": {},
        "outputId": "66943449-1436-4c3d-85c7-b85f9f78349b"
      },
      "outputs": [],
      "source": [
        "import os\n",
        "current_dir = os.getcwd()\n",
        "current_dir"
      ]
    },
    {
      "cell_type": "markdown",
      "metadata": {
        "id": "9MWW8E7lz3i7"
      },
      "source": [
        "We want to make the parent of the current directory the new current directory\n",
        "* os.path.dirname() gets the parent directory\n",
        "* os.chir() defines the new current directory"
      ]
    },
    {
      "cell_type": "code",
      "execution_count": null,
      "metadata": {
        "id": "TwHsQRWjz3i9",
        "metadata": {},
        "outputId": "86849db3-cd2f-4cc5-ebb8-2d0caafa1a2c"
      },
      "outputs": [],
      "source": [
        "os.chdir(os.path.dirname(current_dir))\n",
        "print(\"You set a new current directory\")"
      ]
    },
    {
      "cell_type": "markdown",
      "metadata": {
        "id": "M_xPk_Ijz3i-"
      },
      "source": [
        "Confirm the new current directory"
      ]
    },
    {
      "cell_type": "code",
      "execution_count": null,
      "metadata": {
        "id": "vz3S-_kjz3jA",
        "metadata": {},
        "outputId": "00b79ae4-75d0-4a96-d193-ac9ef9847ea2"
      },
      "outputs": [],
      "source": [
        "current_dir = os.getcwd()\n",
        "current_dir"
      ]
    },
    {
      "cell_type": "markdown",
      "metadata": {
        "id": "-mavJ8DibrcQ"
      },
      "source": [
        "# Load Data"
      ]
    },
    {
      "cell_type": "markdown",
      "metadata": {},
      "source": [
        "First, we will load the house prices dataset previously gathered and stored in the repository during the Data Collection phase. \n",
        "\n",
        "We will then display the first few rows of the dataset to confirm its structure and contents:"
      ]
    },
    {
      "cell_type": "code",
      "execution_count": null,
      "metadata": {
        "metadata": {}
      },
      "outputs": [],
      "source": [
        "import pandas as pd\n",
        "\n",
        "# Load the house prices dataset\n",
        "df = (pd.read_csv(\"outputs/datasets/collection/house_prices_records.csv\"))\n",
        "\n",
        "# Display the first five rows of the dataframe to inspect the data\n",
        "df.head()"
      ]
    },
    {
      "cell_type": "markdown",
      "metadata": {
        "id": "ZY3l0-AxO93d"
      },
      "source": [
        "---"
      ]
    },
    {
      "cell_type": "markdown",
      "metadata": {
        "id": "uFQo3ycuO-v6"
      },
      "source": [
        "# Data Exploration"
      ]
    },
    {
      "cell_type": "markdown",
      "metadata": {},
      "source": [
        "Next, we will utilize Pandas Profiling to conduct a detailed exploration of the dataframe.\n",
        "\n",
        "This enables us to review and analyze the dataset’s structure, highlighting key aspects such as missing values, variable distributions, and potential anomalies."
      ]
    },
    {
      "cell_type": "code",
      "execution_count": null,
      "metadata": {
        "metadata": {}
      },
      "outputs": [],
      "source": [
        "from ydata_profiling import ProfileReport\n",
        "\n",
        "# Generate a report of the df DataFrame\n",
        "pandas_report = ProfileReport(df=df, minimal=True)\n",
        "\n",
        "# Display the report\n",
        "pandas_report.to_notebook_iframe()"
      ]
    },
    {
      "cell_type": "markdown",
      "metadata": {},
      "source": [
        "**Dataset Overview**: Our review of the dataset provides the following:\n",
        "- The dataset includes **24 columns** and **1460 rows**.\n",
        "- Of these columns, **20 contain numerical data** while the remaining **4 are text variables** used as categorical identifiers.\n",
        "- Importantly, the **\"OverallCond\"** and **\"OverallQual\"** variables use numerical values to scale the quality and condition of properties. <br> A similar approach may become helpful for the text-based categorical variables aswell.\n",
        "\n",
        "Additionally, approximately 10% of the data is missing across various columns, a concern that will need to be addressed."
      ]
    },
    {
      "cell_type": "markdown",
      "metadata": {},
      "source": [
        "---"
      ]
    },
    {
      "cell_type": "markdown",
      "metadata": {},
      "source": [
        "# Correlation Study"
      ]
    },
    {
      "cell_type": "markdown",
      "metadata": {},
      "source": [
        "To understand the interactions among the dataset's features, we begin with an assessment of their relationships, focusing particularly on how they correlate with the Sale Price. \n",
        "\n",
        "Initially, we will employ both Pearson and Spearman correlation analyses to identify strong relationships within the data.\n",
        "\n",
        "### Quick Explanation\n",
        "\n",
        "**Pearson’s Correlation Coefficient**: Pearson’s correlation measures the linear relationship between two continuous variables. It quantifies the degree to which a pair of variables are related, providing a value between -1 and 1:\n",
        "- 1 indicates a perfect positive linear relationship, meaning that as one variable increases, the other variable also increases.\n",
        "- -1 indicates a perfect negative linear relationship, meaning that as one variable increases, the other variable decreases.\n",
        "- 0 indicates no linear correlation, suggesting that there is no linear dependence between the variables.\n",
        "\n",
        "**Spearman’s Correlation Coefficient**: Spearman’s correlation measures the monotonic relationship between two variables, whether linear or not. Spearman’s correlation is particularly useful when the data is not normally distributed and like pearson it also provide a value between -1 and 1:\n",
        "- 1 indicates a perfect positive monotonic relationship, where increasing values in one variable consistently correspond with increasing values in the other.\n",
        "- -1 indicates a perfect negative monotonic relationship, where increasing values in one variable consistently correspond with decreasing values in the other.\n",
        "- 0 indicates no monotonic correlation, suggesting that there is no consistent relationship between the rankings of the variables.\n",
        "\n",
        "### Limitations\n",
        "\n",
        "Both methods require numerical data to compute correlations effectively. However, our dataset includes four variables that utilize text to categorize data.\n",
        "\n",
        "To accurately apply these correlation methods, we need to convert these text variables into numerical categories."
      ]
    },
    {
      "cell_type": "markdown",
      "metadata": {},
      "source": [
        "### Handling Categorical Text Variables\n",
        "\n",
        "We will first identify which variables are categorical using the following code:"
      ]
    },
    {
      "cell_type": "code",
      "execution_count": null,
      "metadata": {
        "metadata": {}
      },
      "outputs": [],
      "source": [
        "# Selects columns of the type \"object\" and converts them to a list\n",
        "categorical_vars = df.select_dtypes(include=['object']).columns.tolist()\n",
        "categorical_vars"
      ]
    },
    {
      "cell_type": "markdown",
      "metadata": {},
      "source": [
        "After identifying which variables are categorical with text data, we can further explore these variables to understand how they are structured and what unique categories they contain."
      ]
    },
    {
      "cell_type": "code",
      "execution_count": null,
      "metadata": {
        "metadata": {}
      },
      "outputs": [],
      "source": [
        "# Iterate over each categorical variable and prints the unique values\n",
        "for var in categorical_vars:\n",
        "    print(f\"{var}: {df[var].unique()}\")"
      ]
    },
    {
      "cell_type": "markdown",
      "metadata": {},
      "source": [
        "Now that we know the structure of the categorical variables, we will convert these text-based categories into numerical categories. "
      ]
    },
    {
      "cell_type": "code",
      "execution_count": null,
      "metadata": {
        "metadata": {}
      },
      "outputs": [],
      "source": [
        "# By using ordinal encoding we define dictionaries to map categorical descriptions to numerical values\n",
        "bsmt_exposure_category = {'No': 0, 'Mn': 1, 'Av': 2, 'Gd': 3, 'None': -1}\n",
        "bsmt_fin_type1_category = {'Unf': 0, 'LwQ': 1, 'Rec': 2, 'BLQ': 3, 'ALQ': 4, 'GLQ': 5, 'None': -1}\n",
        "garage_finish_category = {'Unf': 0, 'RFn': 1, 'Fin': 2, 'None': -1}\n",
        "kitchen_qual_category = {'Fa': 1, 'TA': 2, 'Gd': 3, 'Ex': 4}"
      ]
    },
    {
      "cell_type": "markdown",
      "metadata": {},
      "source": [
        "We will now apply the transformation into numerical categories directly to our DataFrame."
      ]
    },
    {
      "cell_type": "code",
      "execution_count": null,
      "metadata": {
        "metadata": {}
      },
      "outputs": [],
      "source": [
        "# Map to numerical values using the dictionaries defined earlier\n",
        "df['BsmtExposure'] = df['BsmtExposure'].map(bsmt_exposure_category)\n",
        "df['BsmtFinType1'] = df['BsmtFinType1'].map(bsmt_fin_type1_category)\n",
        "df['GarageFinish'] = df['GarageFinish'].map(garage_finish_category)\n",
        "df['KitchenQual'] = df['KitchenQual'].map(kitchen_qual_category)"
      ]
    },
    {
      "cell_type": "markdown",
      "metadata": {},
      "source": [
        "## Pearson’s Correlation Coefficient"
      ]
    },
    {
      "cell_type": "code",
      "execution_count": null,
      "metadata": {
        "metadata": {}
      },
      "outputs": [],
      "source": [
        "# Calculates the pearson correlation coefficients between \"SalePrice\" and the other variables\n",
        "# Sort the values in descending order highlighting the strongest relationships\n",
        "# Excludes the first result, wich is the correlation of SalePrice with itself wich is always 1\n",
        "corr_pearson = df.corr(method='pearson')['SalePrice'].sort_values(key=abs, ascending=False)[1:].head(10)\n",
        "corr_pearson"
      ]
    },
    {
      "cell_type": "markdown",
      "metadata": {},
      "source": [
        "## Spearman’s Correlation Coefficient"
      ]
    },
    {
      "cell_type": "code",
      "execution_count": null,
      "metadata": {
        "metadata": {}
      },
      "outputs": [],
      "source": [
        "# Calculates the spearman correlation coefficients between \"SalePrice\" and the other variables\n",
        "# Sort the values in descending order highlighting the strongest relationships\n",
        "# Excludes the first result, wich is the correlation of SalePrice with itself wich is always 1\n",
        "corr_spearman = df.corr(method='spearman')['SalePrice'].sort_values(key=abs, ascending=False)[1:].head(10)\n",
        "corr_spearman"
      ]
    },
    {
      "cell_type": "markdown",
      "metadata": {},
      "source": [
        "### Initial Insights\n",
        "\n",
        "Based on the correlation analysis, where a coefficient above 0.70 indicates a strong correlation and values between 0.50 and 0.69 suggest moderate correlation, it is evident that several key variables significantly impact the sale price. Notably:\n",
        "\n",
        "- **OverallQual**: \n",
        "    - Spearman: 0.809829\n",
        "    - Pearson: 0.790982\n",
        "    - **Analysis**: This variable shows the strongest correlation in both analyses. It is highly predictive of sale price, suggesting that improvements in quality can significantly impact the price.\n",
        "\n",
        "- **GrLivArea** (Above ground living area square feet):\n",
        "    - Spearman: 0.731310\n",
        "    - Pearson: 0.708624\n",
        "    - **Analysis**: This variable consistently shows a strong positive correlation, indicating that larger living areas tend to correspond to higher sale prices.\n",
        "\n",
        "- **KitchenQual** (Kitchen Quality):\n",
        "    - Spearman: 0.672849\n",
        "    - Pearson: 0.659600\n",
        "    - **Analysis**:  Kitchen quality significantly influences the sale price, with strong correlations evident in both Spearman and Pearson metrics.\n",
        "\n",
        "- **GarageArea**:\n",
        "    - Spearman: 0.649379\n",
        "    - Pearson: 0.623431\n",
        "    - **Analysis**: The area of the garage in square feet also demonstrates a strong correlation with sale prices.\n",
        "\n",
        "- **TotalBsmtSF** (Total square feet of basement area):\n",
        "    - Spearman: 0.602725\n",
        "    - Pearson: 0.613581\n",
        "    - **Analysis**: Another strong correlate, indicating that the size of the basement is a key factor in home prices.\n",
        "\n",
        "- **YearBuilt**: \n",
        "    - Spearman: 0.652682\n",
        "    - Pearson: 0.522897\n",
        "    - **Analysis**: Generally, newer homes tend to have higher sale prices, though the relationship is stronger in the Spearman correlation, suggesting that the relationship might not be strictly linear but is consistently positive.\n",
        "\n",
        "### Supporting Analysis:\n",
        "\n",
        "- **YearRemodAdd** (Year of Remodel/Addition):\n",
        "    - Both correlations show that more recently remodeled or added constructions increase the home’s value. <br> This is simply speculation but since Overall Quality of the house plays the highest role on the sale price, it might be due to remodeling, higher quality materials are used and thus increasing the value.\n",
        "\n",
        "- **1stFlrSF** (First Floor square feet):\n",
        "    - Consistent strong correlation in both analyses."
      ]
    },
    {
      "cell_type": "markdown",
      "metadata": {},
      "source": [
        "---"
      ]
    },
    {
      "cell_type": "markdown",
      "metadata": {},
      "source": [
        "### In-Depth Correlation Analysis\n",
        "\n",
        "We will now conduct a detailed examination of the relationships among the variables identified as having significant influence on the sale price.\n",
        "\n",
        "This extended analysis involves generating visual representations through heatmaps to better understand both the linear and nonlinear relationships present in the data."
      ]
    },
    {
      "cell_type": "code",
      "execution_count": null,
      "metadata": {
        "metadata": {}
      },
      "outputs": [],
      "source": [
        "import numpy as np\n",
        "import matplotlib.pyplot as plt\n",
        "import seaborn as sns\n",
        "import ppscore as pps\n",
        "\n",
        "def heatmap_corr(df,threshold, figsize=(20,12), font_annot = 8):\n",
        "  if len(df.columns) > 1:\n",
        "    mask = np.zeros_like(df, dtype=np.bool)\n",
        "    mask[np.triu_indices_from(mask)] = True\n",
        "    mask[abs(df) < threshold] = True\n",
        "\n",
        "    fig, axes = plt.subplots(figsize=figsize)\n",
        "    sns.heatmap(df, annot=True, xticklabels=True, yticklabels=True,\n",
        "                mask=mask, cmap='viridis', annot_kws={\"size\": font_annot}, ax=axes,\n",
        "                linewidth=0.5\n",
        "                     )\n",
        "    axes.set_yticklabels(df.columns, rotation = 0)\n",
        "    plt.ylim(len(df.columns),0)\n",
        "    plt.show()\n",
        "\n",
        "\n",
        "def heatmap_pps(df,threshold, figsize=(20,12), font_annot = 8):\n",
        "    if len(df.columns) > 1:\n",
        "\n",
        "      mask = np.zeros_like(df, dtype=np.bool)\n",
        "      mask[abs(df) < threshold] = True\n",
        "\n",
        "      fig, ax = plt.subplots(figsize=figsize)\n",
        "      ax = sns.heatmap(df, annot=True, xticklabels=True,yticklabels=True,\n",
        "                       mask=mask,cmap='rocket_r', annot_kws={\"size\": font_annot},\n",
        "                       linewidth=0.05,linecolor='grey')\n",
        "      \n",
        "      plt.ylim(len(df.columns),0)\n",
        "      plt.show()\n",
        "\n",
        "\n",
        "\n",
        "def CalculateCorrAndPPS(df):\n",
        "  df_corr_spearman = df.corr(method=\"spearman\")\n",
        "  df_corr_pearson = df.corr(method=\"pearson\")\n",
        "\n",
        "  pps_matrix_raw = pps.matrix(df)\n",
        "  pps_matrix = pps_matrix_raw.filter(['x', 'y', 'ppscore']).pivot(columns='x', index='y', values='ppscore')\n",
        "\n",
        "  pps_score_stats = pps_matrix_raw.query(\"ppscore < 1\").filter(['ppscore']).describe().T\n",
        "  print(\"PPS threshold - check PPS score IQR to decide the threshold for the heatmap \\n\")\n",
        "  print(pps_score_stats.round(3))\n",
        "\n",
        "  return df_corr_pearson, df_corr_spearman, pps_matrix\n",
        "\n",
        "\n",
        "def DisplayCorrAndPPS(df_corr_pearson, df_corr_spearman, pps_matrix,CorrThreshold,PPS_Threshold,\n",
        "                      figsize=(20,12), font_annot=8 ):\n",
        "\n",
        "  print(\"\\n\")\n",
        "  print(\"* Analyze how the target variable for your ML models are correlated with other variables (features and target)\")\n",
        "  print(\"* Analyze multi colinearity, that is, how the features are correlated among themselves\")\n",
        "\n",
        "  print(\"\\n\")\n",
        "  print(\"*** Heatmap: Spearman Correlation ***\")\n",
        "  print(\"It evaluates monotonic relationship \\n\")\n",
        "  heatmap_corr(df=df_corr_spearman, threshold=CorrThreshold, figsize=figsize, font_annot=font_annot)\n",
        "\n",
        "  print(\"\\n\")\n",
        "  print(\"*** Heatmap: Pearson Correlation ***\")\n",
        "  print(\"It evaluates the linear relationship between two continuous variables \\n\")\n",
        "  heatmap_corr(df=df_corr_pearson, threshold=CorrThreshold, figsize=figsize, font_annot=font_annot)\n",
        "\n",
        "  print(\"\\n\")\n",
        "  print(\"*** Heatmap: Predictive power Score (PPS) ***\")\n",
        "  print(f\"PPS detects linear or non-linear relationships between two columns.\\n\"\n",
        "        f\"The score ranges from 0 (no predictive power) to 1 (perfect predictive power) \\n\")\n",
        "  heatmap_pps(df=pps_matrix,threshold=PPS_Threshold, figsize=figsize, font_annot=font_annot)"
      ]
    },
    {
      "cell_type": "code",
      "execution_count": null,
      "metadata": {
        "metadata": {}
      },
      "outputs": [],
      "source": [
        "df_corr_pearson, df_corr_spearman, pps_matrix = CalculateCorrAndPPS(df)"
      ]
    },
    {
      "cell_type": "code",
      "execution_count": null,
      "metadata": {
        "metadata": {}
      },
      "outputs": [],
      "source": [
        "DisplayCorrAndPPS(df_corr_pearson=df_corr_pearson,\n",
        "                  df_corr_spearman=df_corr_spearman, \n",
        "                  pps_matrix=pps_matrix,\n",
        "                  CorrThreshold=0.6, PPS_Threshold=0.15,\n",
        "                  figsize=(10,10), font_annot=8)"
      ]
    },
    {
      "cell_type": "markdown",
      "metadata": {},
      "source": [
        "# Heatmap Analysis\n",
        "\n",
        "The heatmaps generated using both Pearson and Spearman correlation coefficients offer a clearer view of the relationships between various house features and the sale price.\n",
        "\n",
        "Some noteworthy observations:\n",
        "\n",
        "- **Kitchen Quality**:\n",
        "It indeed shows a strong correlation with Sale Price, but it also correlates strongly with Overall Quality. <br> This suggests that as the overall quality of the house increases, there tends to be a corresponding increase in the quality of the kitchen. This might be useful, as we might decide to use only one of these features for our model to avoid redundancy.\n",
        "Given the overwhelming predictive power of overall quality, we may have to prioritize it over kitchen quality in predictive modeling.\n",
        "\n",
        "- **YearRemodAdd** and **YearBuilt**:\n",
        "While both of these features also show substantial correlation with Sale Price, their Power Predictive Scores (PPS) are different. **YearBuilt** has a higher PPS, suggesting that while renovations are valued, they might not be as critically influential as the original construction date on the Sale Price. <br> Additionally, **YearRemodAdd** and **YearBuilt** demonstrate a strong correlation and PPS with each other, wich merits further investigation."
      ]
    },
    {
      "cell_type": "markdown",
      "metadata": {},
      "source": [
        "### Variable Selection for Further Analysis:\n",
        "\n",
        "Based on the insights from both Pearson and Spearman correlations and the detailed heatmap analysis, we identify a set of variables that significantly influence Sale Price. These include:\n",
        "\n",
        "- **Overall Quality** (OverallQual)\n",
        "- **Ground Living Area** (GrLivArea)\n",
        "- **Garage Area** (GarageArea)\n",
        "- **Total Basement Area** (TotalBsmtSF)\n",
        "- **Year Built** (YearBuilt)\n",
        "- **First Floor Area** (1stFlrSF)\n",
        "- **Year of Last Remodel/Addition** (YearRemodAdd)"
      ]
    },
    {
      "cell_type": "markdown",
      "metadata": {},
      "source": [
        "To further solidify our understanding on how these variables impact Sale price, we will conduct another visual analysis.\n",
        "\n",
        "We will create plots for each of these variables against Sale Price to visually asses their relationships."
      ]
    },
    {
      "cell_type": "markdown",
      "metadata": {},
      "source": [
        "# Bivariate Plots Analysis"
      ]
    },
    {
      "cell_type": "markdown",
      "metadata": {},
      "source": [
        "### Understanding Bivariate Analysis\n",
        "\n",
        "**Bivariate analysis** examines the relationship between two variables to understand their interaction and influence on each other.\n",
        "\n",
        " The plot line visually summarizes this relationship. It indicates the trend direction (upward for positive, downward for negative) and strength (steepness of the line), helping to quickly assess how closely the variables are related."
      ]
    },
    {
      "cell_type": "markdown",
      "metadata": {},
      "source": [
        "### Target vs Features\n",
        "\n",
        "The following plots visualize the relationships between each selected variable and the Sale Price, illustrating positive trends that confirm our earlier heatmap analysis."
      ]
    },
    {
      "cell_type": "code",
      "execution_count": null,
      "metadata": {
        "metadata": {}
      },
      "outputs": [],
      "source": [
        "variables = {\n",
        "    'OverallQual': 'Rating 1-10',\n",
        "    'GrLivArea': 'Square Feet',\n",
        "    'GarageArea': 'Square Feet',\n",
        "    'TotalBsmtSF': 'Square Feet',\n",
        "    'YearBuilt': 'Year',\n",
        "    '1stFlrSF': 'Square Feet',\n",
        "    'YearRemodAdd': 'Year',\n",
        "}\n",
        "\n",
        "# Loop through each variable and its unit in the dictionary and create a regression plot\n",
        "for variable, unit in variables.items():\n",
        "    plt.figure(figsize=(10, 6))\n",
        "    sns.regplot(x=variable, y='SalePrice', data=df, line_kws={\"color\": \"red\"}, ci=None)\n",
        "    sns.set_style(\"whitegrid\")\n",
        "    plt.title(f'Sale Price vs. {variable}')\n",
        "    plt.xlabel(f'{variable} ({unit})')\n",
        "    plt.ylabel('Sale Price ($)')\n",
        "    plt.grid(True)\n",
        "    plt.show()"
      ]
    },
    {
      "cell_type": "markdown",
      "metadata": {},
      "source": [
        "Here's a summary of what we observed:\n",
        "\n",
        "- Overall Quality (OverallQual):\n",
        "    Shows yet again a clear, strong positive trend where higher quality ratings consistently correspond to higher sale prices.\n",
        "\n",
        "- Ground Living Area (GrLivArea):\n",
        "    Larger living areas are directly correlated with higher sale prices.\n",
        "\n",
        "- Garage Area (GarageArea):\n",
        "    Similar to living area, a larger garage space also attracts higher prices.\n",
        "\n",
        "- Total Basement Area (TotalBsmtSF):\n",
        "    The size of the basement is another crucial factor.\n",
        "\n",
        "- First Floor Area (1stFlrSF):\n",
        "    This also indicates that properties with larger first-floor areas fetch higher prices, which aligns with the general preference for more living space.\n",
        "\n",
        "- Year Built (YearBuilt):\n",
        "    Newer properties tend to sell for more.\n",
        "\n",
        "- Year of Remodel/Addition (YearRemodAdd):\n",
        "    Although the impact is less pronounced than the original year built, remodeled or recently updated properties still command higher prices."
      ]
    },
    {
      "cell_type": "markdown",
      "metadata": {},
      "source": [
        "### Feature Interactions:\n",
        "\n",
        "Next, we delve deeper into understanding how the features not only relate to the sale price but also interact with each other."
      ]
    },
    {
      "cell_type": "code",
      "execution_count": null,
      "metadata": {
        "metadata": {}
      },
      "outputs": [],
      "source": [
        "sns.regplot(y='KitchenQual', x='OverallQual', data=df, ci=None, line_kws={\"color\": \"red\"})\n",
        "plt.title('Overall Quality vs Kitchen Quality')\n",
        "plt.xlabel('Overall Quality')\n",
        "plt.ylabel('Kitchen Quality')\n",
        "plt.show()"
      ]
    },
    {
      "cell_type": "markdown",
      "metadata": {},
      "source": [
        "This plot vividly illustrates the correlation between Kitchen Quality and Overall Quality of houses. As Kitchen Quality increases, so does Overall Quality, reinforcing our decision to prioritize Overall Quality."
      ]
    },
    {
      "cell_type": "code",
      "execution_count": null,
      "metadata": {
        "metadata": {}
      },
      "outputs": [],
      "source": [
        "sns.regplot(y='YearBuilt', x='OverallQual', data=df, ci=None, line_kws={\"color\": \"red\"})\n",
        "plt.title('Overall Quality vs Year Built')\n",
        "plt.xlabel('Overall Quality')\n",
        "plt.ylabel('Year Built')\n",
        "plt.show()"
      ]
    },
    {
      "cell_type": "markdown",
      "metadata": {},
      "source": [
        "This plot illustrates a trend where newer houses tend to have higher overall quality ratings. This could indicate that construction standards have improved over time, or that newer homes are built with better materials and more modern features, both of which contribute to higher overall quality."
      ]
    },
    {
      "cell_type": "code",
      "execution_count": null,
      "metadata": {
        "metadata": {}
      },
      "outputs": [],
      "source": [
        "sns.regplot(y='YearRemodAdd', x='OverallQual', data=df, ci=None, line_kws={\"color\": \"red\"})\n",
        "plt.title('Overall Quality vs Year Remodeled')\n",
        "plt.xlabel('Overall Quality')\n",
        "plt.ylabel('Year Remodeled')\n",
        "plt.show()"
      ]
    },
    {
      "cell_type": "markdown",
      "metadata": {},
      "source": [
        "This plot, just like with the Year Built vs Overall Quality plot indicates that more recently remodeled houses have higher overall qualities.\n",
        "\n",
        "Given the strong correaltion between the year a house is built and remodeled, let's examine the relationship between them."
      ]
    },
    {
      "cell_type": "code",
      "execution_count": null,
      "metadata": {
        "metadata": {}
      },
      "outputs": [],
      "source": [
        "sns.regplot(y='YearRemodAdd', x='YearBuilt', data=df, ci=None, line_kws={\"color\": \"red\"})\n",
        "plt.title('Year Built vs Year Remodeled')\n",
        "plt.xlabel('Year Built')\n",
        "plt.ylabel('Year Remodeled')\n",
        "plt.show()"
      ]
    },
    {
      "cell_type": "markdown",
      "metadata": {},
      "source": [
        "The clustering along the diagonal indicates that the data entry defaulted to using the construction year when no renovations were made.\n",
        "\n",
        "Additionally, the plot shows a general increase in remodels over time, particularly for homes built before the 1980.\n",
        "This suggests that older homes are more likely to have undergone renovations.\n",
        "\n",
        "We may need to differentiate between genuine remodels and cases where the remodel year simply echoes the construction year.\n",
        "\n",
        "Let's determine how many houses in our dataset have the same year listed for both construction and remodeling."
      ]
    },
    {
      "cell_type": "code",
      "execution_count": null,
      "metadata": {
        "metadata": {}
      },
      "outputs": [],
      "source": [
        "# Calculate the number of houses where the year is the same as the year remodeled\n",
        "same_year_count = (df['YearBuilt'] == df['YearRemodAdd']).sum()\n",
        "\n",
        "# Get the total numer of houses in the DataFrame\n",
        "total_properties = len(df)\n",
        "\n",
        "# Calculates the amount of houses where the year built is different from the year remodeled\n",
        "different_year = total_properties - same_year_count\n",
        "\n",
        "print(f\"Number of properties where the build year and remodel year are the same: {same_year_count}\")\n",
        "print(f\"Total number of properties: {total_properties}\")"
      ]
    },
    {
      "cell_type": "code",
      "execution_count": null,
      "metadata": {
        "metadata": {}
      },
      "outputs": [],
      "source": [
        "labels = 'Same Year', 'Different Years'\n",
        "sizes = [same_year_count, different_year]\n",
        "\n",
        "plt.figure(figsize=(8, 5))\n",
        "# Plot a pie with the defined sizes ad labels, formats the percentages to 1 decimal place\n",
        "plt.pie(sizes, labels=labels,\n",
        "        autopct='%1.1f%%', shadow=True, startangle=140)\n",
        "plt.axis('equal')\n",
        "plt.title('Year Built and Remodel Year Coincidence')\n",
        "plt.show()"
      ]
    },
    {
      "cell_type": "markdown",
      "metadata": {},
      "source": [
        "This pie chart reveals a significant insight into the dataset: over half (52.3%) of the properties have the same year listed for both construction and remodeling. This could suggest that a significant number of entries did not undergo any actual remodeling but were simply documented as such.\n",
        "\n",
        "Adjusting the \"remodel year\" value to Null in cases where it matches the construction year might significantly affect how the remodel year correlates with the sale price."
      ]
    },
    {
      "cell_type": "markdown",
      "metadata": {
        "id": "ltNetd085qHf"
      },
      "source": [
        "# Conclusions and Next Steps"
      ]
    },
    {
      "cell_type": "markdown",
      "metadata": {},
      "source": [
        "## Conclusions"
      ]
    },
    {
      "cell_type": "markdown",
      "metadata": {},
      "source": [
        "In response to Business Requirement 1, our correlation and Power Predictive Score (PPS) analysis has provided insights into the relationship between various house attributes and the sale price. <br> \n",
        "Here are the main findings:\n",
        "\n",
        "- Overall Quality has shown the most robust correlation with Sale Price, suggesting it as the most critical predictor. Houses with higher overall quality are consistently priced higher.\n",
        "\n",
        "- There is a strong positive correlation between living area and Sale Price, which means that larger homes tend to have higher value.\n",
        "- Both garage and basement sizes are significant predictors of Sale Price, indicating that usable space has once more a big influence on the sale price.\n",
        "\n",
        "- Newer homes typically have a higher sale price. The data revealed a significant overlap in the years built and remodeled, suggesting that properties are often listed as remodeled at the time of construction. This might have an impact on the correlation between Year remodeled and the sale price. Adjusting these values where they coincide could provide a clearer picture of true remodel value.\n",
        "\n",
        "- Although kitchen quality strongly correlates with Sale Price, it also closely mirrors overall quality. This suggests that in predictive modeling, focusing on overall quality might suffice."
      ]
    },
    {
      "cell_type": "markdown",
      "metadata": {},
      "source": [
        "## Next Steps"
      ]
    },
    {
      "cell_type": "markdown",
      "metadata": {},
      "source": [
        "- **Data Cleaning**: Address missing values and anomalies in the data to prepare for more accurate modeling.\n",
        "\n",
        "- **Feature Engineering**: Consider reducing redundancy by potentially omitting closely correlated features like kitchen quality when overall quality is included.\n",
        "\n",
        "- **Model Development**: Begin developing predictive models using this study to forecast Sale Prices accurately."
      ]
    }
  ],
  "metadata": {
    "accelerator": "GPU",
    "colab": {
      "name": "Data Practitioner Jupyter Notebook.ipynb",
      "provenance": [],
      "toc_visible": true
    },
    "interpreter": {
      "hash": "8b8334dab9339717f727a1deaf837b322d7a41c20d15cc86be99a8e69ceec8ce"
    },
    "kernelspec": {
      "display_name": "Python 3.8.12 64-bit ('3.8.12': pyenv)",
      "name": "python3"
    },
    "language_info": {
      "codemirror_mode": {
        "name": "ipython",
        "version": 3
      },
      "file_extension": ".py",
      "mimetype": "text/x-python",
      "name": "python",
      "nbconvert_exporter": "python",
      "pygments_lexer": "ipython3",
      "version": "3.8.18"
    },
    "orig_nbformat": 2
  },
  "nbformat": 4,
  "nbformat_minor": 2
}
