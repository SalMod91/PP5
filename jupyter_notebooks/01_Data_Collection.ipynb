{
  "cells": [
    {
      "cell_type": "markdown",
      "metadata": {
        "id": "0aStgWSO0E0E"
      },
      "source": [
        "# **Data Collection Notebook**"
      ]
    },
    {
      "cell_type": "markdown",
      "metadata": {
        "id": "1eLEkw5O0ECa"
      },
      "source": [
        "## Objectives\n",
        "\n",
        "- **Fetch data from Kaggle**: Fetch the dataset from Kaggle and save the date as raw data.\n",
        "- **Inspect Data**: Load and inspect the data.\n",
        "- **Save Data**:  Save the data under outputs/datasets/raw.\n",
        "- **Push files to Repo**: Push the files to the GitHub repository.\n",
        "\n",
        "## Inputs\n",
        "\n",
        "- **Kaggle JSON File**: A JSON authentication token necessary for accessing datasets on Kaggle.\n",
        "- **Kaggle House Prices Dataset**: Access the dataset provided by the Code Institute, available on [Kaggle](https://www.kaggle.com/datasets/codeinstitute/housing-prices-data).\n",
        "\n",
        "## Outputs\n",
        "\n",
        "- **Generated Dataset**: The generated dataset will be saved in outputs/datasets/collection\n",
        "\n",
        "## Additional Comments\n",
        "\n",
        "- In this project, the dataset for housing prices is sourced from **Kaggle** and is publicly available. In a real-world scenario, however, data related to housing prices would typically be considered sensitive and may require enhanced privacy measures.\n"
      ]
    },
    {
      "cell_type": "markdown",
      "metadata": {
        "id": "9uWZXH9LwoQg"
      },
      "source": [
        "---"
      ]
    },
    {
      "cell_type": "markdown",
      "metadata": {
        "id": "cqP-UeN-z3i2"
      },
      "source": [
        "# Change working directory"
      ]
    },
    {
      "cell_type": "markdown",
      "metadata": {
        "id": "aOGIGS-uz3i2"
      },
      "source": [
        "We need to change the working directory from its current folder to its parent folder\n",
        "* We access the current directory with os.getcwd()"
      ]
    },
    {
      "cell_type": "code",
      "execution_count": null,
      "metadata": {
        "id": "wZfF_j-Bz3i4",
        "metadata": {},
        "outputId": "66943449-1436-4c3d-85c7-b85f9f78349b"
      },
      "outputs": [],
      "source": [
        "import os\n",
        "current_dir = os.getcwd()\n",
        "current_dir"
      ]
    },
    {
      "cell_type": "markdown",
      "metadata": {
        "id": "9MWW8E7lz3i7"
      },
      "source": [
        "We want to make the parent of the current directory the new current directory\n",
        "* os.path.dirname() gets the parent directory\n",
        "* os.chir() defines the new current directory"
      ]
    },
    {
      "cell_type": "code",
      "execution_count": null,
      "metadata": {
        "id": "TwHsQRWjz3i9",
        "metadata": {},
        "outputId": "86849db3-cd2f-4cc5-ebb8-2d0caafa1a2c"
      },
      "outputs": [],
      "source": [
        "os.chdir(os.path.dirname(current_dir))\n",
        "print(\"You set a new current directory\")"
      ]
    },
    {
      "cell_type": "markdown",
      "metadata": {
        "id": "M_xPk_Ijz3i-"
      },
      "source": [
        "Confirm the new current directory"
      ]
    },
    {
      "cell_type": "code",
      "execution_count": null,
      "metadata": {
        "id": "vz3S-_kjz3jA",
        "metadata": {},
        "outputId": "00b79ae4-75d0-4a96-d193-ac9ef9847ea2"
      },
      "outputs": [],
      "source": [
        "current_dir = os.getcwd()\n",
        "current_dir"
      ]
    },
    {
      "cell_type": "markdown",
      "metadata": {},
      "source": [
        "---"
      ]
    },
    {
      "cell_type": "markdown",
      "metadata": {
        "id": "-mavJ8DibrcQ"
      },
      "source": [
        "# Python Packages"
      ]
    },
    {
      "cell_type": "markdown",
      "metadata": {},
      "source": [
        "- The following command installs the necessary python packages in the notebook"
      ]
    },
    {
      "cell_type": "code",
      "execution_count": null,
      "metadata": {
        "metadata": {}
      },
      "outputs": [],
      "source": [
        "! pip3 install -r requirements.txt"
      ]
    },
    {
      "cell_type": "markdown",
      "metadata": {
        "id": "ZY3l0-AxO93d"
      },
      "source": [
        "---"
      ]
    },
    {
      "cell_type": "markdown",
      "metadata": {
        "id": "uFQo3ycuO-v6"
      },
      "source": [
        "# Fetch data from Kaggle"
      ]
    },
    {
      "cell_type": "markdown",
      "metadata": {},
      "source": [
        "- The following command installs the Kaggle library used to fetch the data."
      ]
    },
    {
      "cell_type": "code",
      "execution_count": null,
      "metadata": {
        "metadata": {}
      },
      "outputs": [],
      "source": [
        "! pip3 install kaggle==1.5.12"
      ]
    },
    {
      "cell_type": "markdown",
      "metadata": {},
      "source": [
        "Next, we need to obtain a JSON file from Kaggle, which serves as an authentication token required to securely access and download the necessary datasets for this project."
      ]
    },
    {
      "cell_type": "markdown",
      "metadata": {},
      "source": [
        "**Steps to Obtain and Use the Kaggle JSON File:**\n",
        "\n",
        "1. Create a Kaggle Account: <br>\n",
        "    - If you do not already have an account, you can sign up at [Kaggle](https://www.kaggle.com/).\n",
        "\n",
        "2. Generate API Token: <br>\n",
        "    - Navigate to your account settings by clicking on your profile picture at the top right, and select \"Account\" from the menu.\n",
        "    - Scroll down to the \"API\" section and click on \"Create New API Token\".\n",
        "    - This will trigger the download of a kaggle.json file containing your API credentials.\n",
        "\n",
        "3. Place the JSON File in the Root Directory: <br>\n",
        "    - Locate the kaggle.json file in your default downloads folder or wherever your browser typically saves downloaded files.\n",
        "    - Move this file to the root directory of your project or the designated directory required by your environment setup. <br>\n",
        "\n",
        "    ![JSON](../media/kagglejson.png)"
      ]
    },
    {
      "cell_type": "markdown",
      "metadata": {},
      "source": [
        "Next, we will execute the following code to ensure that the token is recognized during this session."
      ]
    },
    {
      "cell_type": "code",
      "execution_count": null,
      "metadata": {
        "metadata": {}
      },
      "outputs": [],
      "source": [
        "import os\n",
        "os.environ['KAGGLE_CONFIG_DIR'] = os.getcwd()\n",
        "! chmod 600 kaggle.json"
      ]
    },
    {
      "cell_type": "markdown",
      "metadata": {},
      "source": [
        "As mentioned in the \"Inputs\" section of this notebook, the project utilizes the following [Housing Prices Dataset](https://www.kaggle.com/datasets/codeinstitute/housing-prices-data) available on Kaggle.\n",
        "\n",
        "The code below accomplishes the following tasks:\n",
        "- **Define the Kaggle Path**: This is the path that appears after www.kaggle.com/datasets/ in the URL, identifying the specific dataset.\n",
        "- **Set the Destination Folder**: Specifies where the dataset will be downloaded on your local machine/cloud environment.\n",
        "- **Download the Data**: Executes the download process to retrieve the dataset from Kaggle."
      ]
    },
    {
      "cell_type": "code",
      "execution_count": null,
      "metadata": {
        "metadata": {}
      },
      "outputs": [],
      "source": [
        "KaggleDatasetPath = \"codeinstitute/housing-prices-data\"\n",
        "DestinationFolder = \"inputs/datasets/raw\"   \n",
        "! kaggle datasets download -d {KaggleDatasetPath} -p {DestinationFolder}"
      ]
    },
    {
      "cell_type": "markdown",
      "metadata": {},
      "source": [
        "After downloading the files, execute the following code cell to manage the files efficiently:\n",
        "- **Unzip the Downloaded File**: This code will automatically extract the contents of the downloaded ZIP file to your specified directory.\n",
        "- **Delete the ZIP File**: The code will remove the ZIP file from your directory to clear up space, as it is no longer needed after extraction.\n",
        "- **Delete the kaggle.json File**: For security purposes, the code will also delete the kaggle.json file from your working directory to prevent unauthorized access to your Kaggle account.\n",
        "\n",
        "By running this code cell, you ensure that only necessary files are retained and sensitive information is securely managed."
      ]
    },
    {
      "cell_type": "code",
      "execution_count": null,
      "metadata": {
        "metadata": {}
      },
      "outputs": [],
      "source": [
        "! unzip {DestinationFolder}/*.zip -d {DestinationFolder} \\\n",
        "  && rm {DestinationFolder}/*.zip \\\n",
        "  && rm kaggle.json"
      ]
    },
    {
      "cell_type": "markdown",
      "metadata": {},
      "source": [
        "---"
      ]
    },
    {
      "cell_type": "markdown",
      "metadata": {},
      "source": [
        "# Data Inspection"
      ]
    },
    {
      "cell_type": "markdown",
      "metadata": {},
      "source": [
        "After downloading and preparing the datasets, we have two primary datasets available:\n",
        "\n",
        "- **House Prices Records**: This dataset includes general market data for houses in Ames, Iowa.\n",
        "- **Inherited Houses Records**: This dataset specifically details the inherited properties."
      ]
    },
    {
      "cell_type": "markdown",
      "metadata": {},
      "source": [
        "### Load and Inspect the House Prices Records"
      ]
    },
    {
      "cell_type": "code",
      "execution_count": null,
      "metadata": {
        "metadata": {}
      },
      "outputs": [],
      "source": [
        "import pandas as pd\n",
        "\n",
        "# Loads the house prices dataset\n",
        "house_prices_df = pd.read_csv(f\"inputs/datasets/raw/house-price-20211124T154130Z-001/house-price/house_prices_records.csv\")\n",
        "\n",
        "# Displays the first 5 rows of the dataset\n",
        "house_prices_df.head()"
      ]
    },
    {
      "cell_type": "markdown",
      "metadata": {},
      "source": [
        "### Load and Inspect the Inherited Houses Records"
      ]
    },
    {
      "cell_type": "code",
      "execution_count": null,
      "metadata": {
        "metadata": {}
      },
      "outputs": [],
      "source": [
        "# Loads the inherited houses dataset\n",
        "inherited_df = pd.read_csv(f\"inputs/datasets/raw/house-price-20211124T154130Z-001/house-price/inherited_houses.csv\")\n",
        "\n",
        "# Displays the first 5 rows of the dataset\n",
        "inherited_df.head()"
      ]
    },
    {
      "cell_type": "markdown",
      "metadata": {},
      "source": [
        "### Abbreviations:\n",
        "The displayed dataframes/tables above include abbreviations that summarize key property features. Below, a brief explanation of these abbreviations is provided in order of appearance for quick reference. For a more detailed description, please refer to the README file.\n",
        "\n",
        "1stFlrSF: First Floor square feet\n",
        "\n",
        "2ndFlrSF: Second floor square feet\n",
        "\n",
        "BedroomAbvGr: Bedrooms above grade (does NOT include basement bedrooms)\n",
        "\n",
        "BsmtExposure: Refers to walkout or garden level walls\n",
        "- Gd: Good Exposure\n",
        "- Av: Average Exposure\n",
        "- Mn: Mimimum Exposure\n",
        "- No: No Exposure\n",
        "- None: No Basement\n",
        "\n",
        "BsmtFinSF1: Type 1 finished square feet\n",
        "\n",
        "BsmtFinType1: Rating of basement finished area\n",
        "- GLQ: Good Living Quarters\n",
        "- ALQ: Average Living Quarters\n",
        "- BLQ: Below Average Living Quarters\n",
        "- Rec: Average Rec Room\n",
        "- LwQ: Low Quality\n",
        "- Unf: Unfinshed\n",
        "- None: No Basement\n",
        "\n",
        "\n",
        "BsmtUnfSF: Unfinished square feet of basement area\n",
        "\n",
        "EnclosedPorch: Enclosed porch area in square feet\n",
        "\n",
        "GarageArea: Size of garage in square feet\n",
        "\n",
        "GarageFinish: Interior finish of the garage\n",
        "- Fin: Finished\n",
        "- RFn: Rough Finished\n",
        "- Unf: Unfinished\n",
        "- None: No Garage\n",
        "\n",
        "GarageYrBlt: Year garage was built\n",
        "\n",
        "GrLivArea: Above grade (ground) living area square feet\n",
        "\n",
        "TotalBsmtSF: Total square feet of basement area\n",
        "\n",
        "KitchenQual: Kitchen quality\n",
        "- Ex: Excellent\n",
        "- Gd: Good\n",
        "- TA: Typical/Average\n",
        "- Fa: Fair\n",
        "- Po: Poor\n",
        "\n",
        "LotArea: Lot size in square feet\n",
        "\n",
        "LotFrontage: Linear feet of street connected to property\n",
        "\n",
        "MasVnrArea: Masonry veneer area in square feet\n",
        "\n",
        "OpenPorchSF: Open porch area in square feet\n",
        "\n",
        "OverallCond: Rates the overall condition of the house\n",
        "- 10: Very Excellent\n",
        "- 9: Excellent\n",
        "- 8: Very Good\n",
        "- 7: Good\n",
        "- 6: Above Average\n",
        "- 5: Average\n",
        "- 4: Below Average\n",
        "- 3: Fair\n",
        "- 2: Poor\n",
        "- 1: Very Poor\n",
        "\n",
        "OverallQual: Rates the overall material and finish of the house\n",
        "- 10: Very Excellent\n",
        "- 9: Excellent\n",
        "- 8: Very Good\n",
        "- 7: Good\n",
        "- 6: Above Average\n",
        "- 5: Average\n",
        "- 4: Below Average\n",
        "- 3: Fair\n",
        "- 2: Poor\n",
        "- 1: Very Poor\n",
        "\n",
        "TotalBsmtSF: Total square feet of basement area\n",
        "\n",
        "WoodDeckSF: Wood deck area in square feet\n",
        "\n",
        "YearBuilt: Original construction date\n",
        "\n",
        "YearRemodAdd: Remodel date (same as construction date if no remodelling or additions)\n",
        "\n",
        "SalePrice: Sale Price"
      ]
    },
    {
      "cell_type": "markdown",
      "metadata": {},
      "source": [
        "### Dataframe Summary"
      ]
    },
    {
      "cell_type": "code",
      "execution_count": null,
      "metadata": {
        "metadata": {}
      },
      "outputs": [],
      "source": [
        "# Display the information about the DataFrame \"house_prices_df\", which includes details about each column\n",
        "house_prices_df.info()"
      ]
    },
    {
      "cell_type": "code",
      "execution_count": null,
      "metadata": {
        "metadata": {}
      },
      "outputs": [],
      "source": [
        "# Display the information about the DataFrame \"inherited_df\", which includes details about each column\n",
        "inherited_df.info()"
      ]
    },
    {
      "cell_type": "markdown",
      "metadata": {},
      "source": [
        "### Check for missing values."
      ]
    },
    {
      "cell_type": "code",
      "execution_count": null,
      "metadata": {
        "metadata": {}
      },
      "outputs": [],
      "source": [
        "# Calculate and display the number of missing values in each column of the DataFrame \"house_prices_df\"\n",
        "house_prices_df.isnull().sum()"
      ]
    },
    {
      "cell_type": "code",
      "execution_count": null,
      "metadata": {
        "metadata": {}
      },
      "outputs": [],
      "source": [
        "# Calculate and display the number of missing values in each column of the DataFrame \"inherited_df\"\n",
        "inherited_df.isnull().sum()"
      ]
    },
    {
      "cell_type": "markdown",
      "metadata": {},
      "source": [
        "### Check for duplicated entries."
      ]
    },
    {
      "cell_type": "code",
      "execution_count": null,
      "metadata": {
        "metadata": {}
      },
      "outputs": [],
      "source": [
        "# Identify and display any duplicate rows in \"house_prices_df\"\n",
        "house_prices_df[house_prices_df.duplicated(subset=None)]"
      ]
    },
    {
      "cell_type": "code",
      "execution_count": null,
      "metadata": {
        "metadata": {}
      },
      "outputs": [],
      "source": [
        "# Identify and display any duplicate rows in \"inherited_df\"\n",
        "inherited_df[inherited_df.duplicated(subset=None)]"
      ]
    },
    {
      "cell_type": "markdown",
      "metadata": {},
      "source": [
        "There are no duplicate entries in both datasets."
      ]
    },
    {
      "cell_type": "markdown",
      "metadata": {},
      "source": [
        "---"
      ]
    },
    {
      "cell_type": "markdown",
      "metadata": {
        "id": "ltNetd085qHf"
      },
      "source": [
        "# Push files to Repo"
      ]
    },
    {
      "cell_type": "markdown",
      "metadata": {},
      "source": [
        "The following code will push the loaded data to the repository."
      ]
    },
    {
      "cell_type": "code",
      "execution_count": null,
      "metadata": {
        "id": "aKlnIozA4eQO",
        "metadata": {},
        "outputId": "fd09bc1f-adb1-4511-f6ce-492a6af570c0"
      },
      "outputs": [],
      "source": [
        "import os\n",
        "try:\n",
        "  os.makedirs(name='outputs/datasets/collection') # creates outputs/datasets/collection folder\n",
        "except Exception as e:\n",
        "  print(e)\n",
        "\n",
        "# Save \"house_prices_df\" to a CSV file without including row indices\n",
        "house_prices_df.to_csv(f\"outputs/datasets/collection/house_prices_records.csv\",index=False)\n",
        "\n",
        "# Save \"inherited_df\" to a CSV file without including row indices\n",
        "inherited_df.to_csv(f\"outputs/datasets/collection/inherited_houses.csv\",index=False)"
      ]
    },
    {
      "cell_type": "markdown",
      "metadata": {},
      "source": [
        "---"
      ]
    },
    {
      "cell_type": "markdown",
      "metadata": {
        "metadata": {}
      },
      "source": [
        "# Conclusions and Next Steps"
      ]
    },
    {
      "cell_type": "markdown",
      "metadata": {},
      "source": [
        "## Conclusions"
      ]
    },
    {
      "cell_type": "markdown",
      "metadata": {},
      "source": [
        "Significant columns from the house prices dataset have numerous missing values wich are:\n",
        "\n",
        "**2ndFlrSF**, **BedroomAbvGr**, **BsmtFinType1**, **EnclosedPorch**, **GarageFinish**, **GarageYrBlt**, **LotFrontage**, **MasVnrArea**, and **WoodDeckSF** .\n",
        "\n",
        "The presence of a large number of zeros in **EnclosedPorch** and **WoodDeckSF** suggests that these features might be absent in many properties."
      ]
    },
    {
      "cell_type": "markdown",
      "metadata": {},
      "source": [
        "## Next Steps"
      ]
    },
    {
      "cell_type": "markdown",
      "metadata": {},
      "source": [
        "1. **Sale Price Study**:\n",
        "    - Conduct a comprehensive analysis of the **SalePrice** attribute to understand its distribution. This will help establish anunderstanding of the factors driving property values in the dataset.\n",
        "\n",
        "2. **Correlation Analysis**:\n",
        "    - Perform detailed correlation analysis to identify which attributes most strongly influence the sale price.\n",
        "    - Utilize both Pearson correlation for linear relationships and Spearman correlation for non-linear trends.\n",
        "\n",
        "3. **Visualization of Key Relationships**:\n",
        "    - Develop visualizations such as scatter plots, heat maps, and pair plots to visually represent the relationships between house attributes and the sale price.\n",
        "    - Focus on visualizing the most impactful variables as identified from the correlation analysis."
      ]
    }
  ],
  "metadata": {
    "accelerator": "GPU",
    "colab": {
      "name": "Data Practitioner Jupyter Notebook.ipynb",
      "provenance": [],
      "toc_visible": true
    },
    "interpreter": {
      "hash": "8b8334dab9339717f727a1deaf837b322d7a41c20d15cc86be99a8e69ceec8ce"
    },
    "kernelspec": {
      "display_name": "Python 3.8.12 64-bit ('3.8.12': pyenv)",
      "name": "python3"
    },
    "language_info": {
      "codemirror_mode": {
        "name": "ipython",
        "version": 3
      },
      "file_extension": ".py",
      "mimetype": "text/x-python",
      "name": "python",
      "nbconvert_exporter": "python",
      "pygments_lexer": "ipython3",
      "version": "3.8.18"
    },
    "orig_nbformat": 2
  },
  "nbformat": 4,
  "nbformat_minor": 2
}
